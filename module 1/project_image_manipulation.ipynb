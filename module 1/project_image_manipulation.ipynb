{
  "cells": [
    {
      "cell_type": "markdown",
      "metadata": {
        "id": "kJTF_psfb-tP"
      },
      "source": [
        "# Project: Image Manipulation\n",
        "\n",
        "[![Open In Colab <](https://colab.research.google.com/assets/colab-badge.svg)](https://colab.research.google.com/github/ShawnHymel/computer-vision-with-embedded-machine-learning/blob/master/1.1.5%20-%20Project%20-%20Loading%20and%20Manipulating%20Images/project_image_manipulation.ipynb)\n",
        "\n",
        "Welcome to your first project in the Computer Vision with Embedded Machine Learning course! Follow along with the project prompts to complete this project. Press 'shift + enter' to run a cell.\n",
        "\n",
        "Author: EdgeImpulse, Inc.<br>\n",
        "Date: July 30, 2021<br>\n",
        "License: [Apache-2.0](apache.org/licenses/LICENSE-2.0)<br>"
      ]
    },
    {
      "cell_type": "code",
      "execution_count": 2,
      "metadata": {
        "colab": {
          "base_uri": "https://localhost:8080/"
        },
        "id": "UHU8rIFNe06Z",
        "outputId": "650a7e10-863d-4a6b-ff11-12d6673cd4b8"
      },
      "outputs": [
        {
          "name": "stdout",
          "output_type": "stream",
          "text": [
            "Answer: 3\n"
          ]
        }
      ],
      "source": [
        "### Example: Try running this cell. Press 'shift + enter'.\n",
        "\n",
        "var = 1 + 2\n",
        "print(\"Answer:\", var)"
      ]
    },
    {
      "cell_type": "markdown",
      "metadata": {
        "id": "JjupkIoxfkJv"
      },
      "source": [
        "Google Colab runs Jupyter Notebook, which is a web-based client application that allows you to run code (Python in this case) on a server. Similar to an interactive Python console, you can run pieces of code (stored in \"cells\") at a time rather than running (and debugging) an entire program.\n",
        "\n",
        "Variables are saved between cells, unless you select *Runtime > Restart Runtime* to delete all your stored variables. You'll need to run all of your cells again if you do that.\n",
        "\n",
        "If you need help with Jupyter Notebook, you can read the documentation here: https://jupyter-notebook.readthedocs.io/en/stable/\n",
        "\n",
        "If this is your first time using Colab, I recommend reading through this [getting start guide](https://www.tutorialspoint.com/google_colab/google_colab_quick_guide.htm)."
      ]
    },
    {
      "cell_type": "markdown",
      "metadata": {
        "id": "l1tYPuB2enzT"
      },
      "source": [
        "## Part 1: Load an Image\n",
        "\n",
        "On the left side of Colab, click the folder icon. Click the upload icon and select one of your captured dataset images."
      ]
    },
    {
      "cell_type": "code",
      "execution_count": 3,
      "metadata": {
        "id": "Ad3-vwQ5b6sm"
      },
      "outputs": [],
      "source": [
        "### You will likely need these libraries\n",
        "\n",
        "import os\n",
        "import PIL\n",
        "from PIL import Image"
      ]
    },
    {
      "cell_type": "markdown",
      "metadata": {
        "id": "8WAaZbSKiDpL"
      },
      "source": [
        "You might need to use the `os.path.join()` function to create a string that points to the location of your image. You can read more about it here: https://docs.python.org/3/library/os.path.html#os.path.join\n",
        "\n",
        "There are a few ways to open an image in Python. I recommend using the Image module in the PIL package to do that. You can read about the Image module here: https://pillow.readthedocs.io/en/stable/reference/Image.html. You will also need to use the `Image.convert()` function to convert the image to grayscale (documentation found on that same page)."
      ]
    },
    {
      "cell_type": "code",
      "execution_count": 21,
      "metadata": {
        "id": "UNUskjg_g83e"
      },
      "outputs": [],
      "source": [
        "### Open image and convert to grayscale.\n",
        "\n",
        "# Placeholder--you need to save the grayscale image in the 'img' variable\n",
        "img = None\n",
        "\n",
        "# Specify the path to your image file\n",
        "image_path = os.path.join(\"content/dataset/diode/6.png\")  # Update with your actual image path\n",
        "\n",
        "# Open the image using PIL\n",
        "img = Image.open(image_path)\n",
        "\n",
        "# Convert the image to grayscale\n",
        "img = img.convert('L')\n",
        "\n",
        "# Display the image (optional, to verify)\n",
        "img.show()\n"
      ]
    },
    {
      "cell_type": "markdown",
      "metadata": {
        "id": "L7GI22Xxj8Xw"
      },
      "source": [
        "We can preview the image using the `imshow()` function as part of the matplotlib library. You can read about it here: https://matplotlib.org/stable/api/_as_gen/matplotlib.pyplot.imshow.html"
      ]
    },
    {
      "cell_type": "code",
      "execution_count": 5,
      "metadata": {
        "id": "JQdwaFn0iuby"
      },
      "outputs": [],
      "source": [
        "### Load the pyplot module (from matplotlib)\n",
        "\n",
        "import matplotlib.pyplot as plt"
      ]
    },
    {
      "cell_type": "code",
      "execution_count": 6,
      "metadata": {
        "colab": {
          "base_uri": "https://localhost:8080/",
          "height": 450
        },
        "id": "9F6R8J_PizR6",
        "outputId": "435dbfd8-ffb6-483f-896b-173759833d31"
      },
      "outputs": [
        {
          "data": {
            "text/plain": [
              "<matplotlib.image.AxesImage at 0x1b42f7f3c90>"
            ]
          },
          "execution_count": 6,
          "metadata": {},
          "output_type": "execute_result"
        },
        {
          "data": {
            "image/png": "[encoded data removed]",
            "text/plain": [
              "<Figure size 640x480 with 1 Axes>"
            ]
          },
          "metadata": {},
          "output_type": "display_data"
        }
      ],
      "source": [
        "### View the image\n",
        "\n",
        "# At this point, your image should be loaded and saved in the 'img' variable. Let's view it.\n",
        "plt.imshow(img, cmap='gray', vmin=0, vmax=255)"
      ]
    },
    {
      "cell_type": "markdown",
      "metadata": {
        "id": "yxaImmZal6i2"
      },
      "source": [
        "## Part 2: Convert Image to Numpy Array\n",
        "\n",
        "PIL Image objects are useful for some object manipulation, but to really get our hands dirty, we want to convert everything to numerical arrays. We'll use Numpy to work with such arrays.\n",
        "\n",
        "Numpy is a powerful Python library that allows us to efficiently work with multi-dimensional arrays. If this is your first time using Numpy, I recommend reading through this tutorial (try running some of the commands!): https://towardsdatascience.com/getting-started-with-numpy-59b22df56729"
      ]
    },
    {
      "cell_type": "code",
      "execution_count": 7,
      "metadata": {
        "id": "Wt74ISbOlDd7"
      },
      "outputs": [],
      "source": [
        "### We'll obviously need the Numpy package\n",
        "\n",
        "import numpy as np"
      ]
    },
    {
      "cell_type": "markdown",
      "metadata": {
        "id": "ahKzexN-vYtv"
      },
      "source": [
        "I recommend using the `asarray()` function in Numpy to conver the PIL Image object. You can read about it here: https://numpy.org/doc/stable/reference/generated/numpy.asarray.html"
      ]
    },
    {
      "cell_type": "code",
      "execution_count": 8,
      "metadata": {
        "colab": {
          "base_uri": "https://localhost:8080/"
        },
        "id": "GYqEVTN4uvMl",
        "outputId": "6cbf5fa1-9aaa-46ae-8ba9-6484ae2f631d"
      },
      "outputs": [
        {
          "name": "stdout",
          "output_type": "stream",
          "text": [
            "(96, 96)\n"
          ]
        }
      ],
      "source": [
        "### Conver the Image object to a Numpy array\n",
        "\n",
        "# Save your Numpy array in the 'img_array' variable\n",
        "img_array = np.array(img)\n",
        "\n",
        "# >>> ENTER YOUR CODE HERE <<<\n",
        "print(img_array.shape)"
      ]
    },
    {
      "cell_type": "code",
      "execution_count": 9,
      "metadata": {
        "colab": {
          "base_uri": "https://localhost:8080/",
          "height": 450
        },
        "id": "4aGsrVZYwBEd",
        "outputId": "d1e4afe2-1010-4cc7-c15a-caccab58dcfb"
      },
      "outputs": [
        {
          "data": {
            "text/plain": [
              "<matplotlib.image.AxesImage at 0x1b44f6414d0>"
            ]
          },
          "execution_count": 9,
          "metadata": {},
          "output_type": "execute_result"
        },
        {
          "data": {
            "image/png": "[encoded data removed]",
            "text/plain": [
              "<Figure size 640x480 with 1 Axes>"
            ]
          },
          "metadata": {},
          "output_type": "display_data"
        }
      ],
      "source": [
        "### View the array as an image\n",
        "\n",
        "# At this point, your image should be saved as a Numpy array in the 'img_array' variable\n",
        "plt.imshow(img_array, cmap='gray', vmin=0, vmax=255)"
      ]
    },
    {
      "cell_type": "code",
      "execution_count": 10,
      "metadata": {
        "colab": {
          "base_uri": "https://localhost:8080/"
        },
        "id": "65iaXwyAwKcq",
        "outputId": "463c9429-ab06-418b-b9c5-a52cddc2ffc8"
      },
      "outputs": [
        {
          "name": "stdout",
          "output_type": "stream",
          "text": [
            "Shape of the array: (96, 96)\n",
            "Entire array:\n",
            " [[150 150 150 ... 155 155 155]\n",
            " [150 150 150 ... 157 155 155]\n",
            " [150 150 150 ... 155 155 155]\n",
            " ...\n",
            " [131 131 131 ... 155 155 155]\n",
            " [127 128 128 ... 152 155 155]\n",
            " [127 128 128 ... 152 152 152]]\n",
            "First row:\n",
            " [150 150 150 150 152 155 155 155 155 155 155 155 155 155 156 156 155 156\n",
            " 155 155 155 155 155 155 155 155 157 157 157 155 155 155 155 155 155 155\n",
            " 155 155 155 155 157 157 157 157 158 155 155 158 158 158 158 158 157 157\n",
            " 157 155 157 157 157 157 157 157 157 157 157 157 157 157 157 157 157 157\n",
            " 157 157 157 155 155 155 155 155 155 155 155 157 157 157 157 157 157 157\n",
            " 155 155 155 155 155 155]\n",
            "First column:\n",
            " [150 150 150 150 152 152 152 152 150 150 150 150 152 152 155 155 155 155\n",
            " 155 155 155 155 155 155 155 155 155 155 155 155 155 152 155 155 155 155\n",
            " 155 152 149 149 149 149 150 150 150 150 149 149 152 150 164 120 142 131\n",
            "  38  35  26  65 126 141 152 147 147 147 147 147 147 147 147 147 147 147\n",
            " 147 141 141 141 141 141 139 139 139 139 139 139 136 133 133 133 133 133\n",
            " 131 131 131 131 127 127]\n"
          ]
        }
      ],
      "source": [
        "### View details about the array: print the shape, entire array, first row, and first column\n",
        "# Note that Python may leave out some values when printing the entire array.\n",
        "# Make sure that the first row and first column look correct!\n",
        "\n",
        "# >>> ENTER YOUR CODE HERE <<<\n",
        "\n",
        "# Print the shape of the array\n",
        "print(\"Shape of the array:\", img_array.shape)\n",
        "\n",
        "# Print the entire array (note: the output may be truncated if the array is large)\n",
        "print(\"Entire array:\\n\", img_array)\n",
        "\n",
        "# Print the first row of the array\n",
        "print(\"First row:\\n\", img_array[0])\n",
        "\n",
        "# Print the first column of the array\n",
        "print(\"First column:\\n\", img_array[:, 0])\n"
      ]
    },
    {
      "cell_type": "markdown",
      "metadata": {
        "id": "6obWluMAxfta"
      },
      "source": [
        "## Part 3: Resize Image\n",
        "\n",
        "We can use a variety of functions to change the image, which will help us curate our dataset as well as work with image data on our embedded devices.\n",
        "\n",
        "To start, we'll resize the image to something smaller. Resizing, scaling, and zooming images is often not trivial, so we'll rely on the transform module in the scikit-image package to help us. You can read more about the resize function here: https://scikit-image.org/docs/dev/api/skimage.transform.html#skimage.transform.resize"
      ]
    },
    {
      "cell_type": "code",
      "execution_count": 11,
      "metadata": {
        "id": "5g0__YgZwjw8"
      },
      "outputs": [],
      "source": [
        "### We'll use the Scikit-Image Transform module to help us resize the image\n",
        "\n",
        "from skimage.transform import resize"
      ]
    },
    {
      "cell_type": "code",
      "execution_count": 12,
      "metadata": {
        "colab": {
          "base_uri": "https://localhost:8080/"
        },
        "id": "j-SNuTOGwqTZ",
        "outputId": "24bf2621-b61f-412d-90d5-a30f3b944eb2"
      },
      "outputs": [
        {
          "name": "stdout",
          "output_type": "stream",
          "text": [
            "Shape of the resized array: (28, 28)\n"
          ]
        }
      ],
      "source": [
        "### Use the \"resize\" function to resize your image array to 28x28 pixels.\n",
        "# I recommend setting the \"anti_aliasing\" parameter to True.\n",
        "# Print the array's shape when you are done (it should be (28, 28))\n",
        "\n",
        "# Save your resized image in the 'img_resized' variable\n",
        "img_resized = resize(img_array, (28, 28), anti_aliasing=True)\n",
        "\n",
        "# >>> ENTER YOUR CODE HERE <<<\n",
        "print(\"Shape of the resized array:\", img_resized.shape)"
      ]
    },
    {
      "cell_type": "code",
      "execution_count": 13,
      "metadata": {
        "colab": {
          "base_uri": "https://localhost:8080/",
          "height": 447
        },
        "id": "LCIFvHSdzhAG",
        "outputId": "4341e678-94f0-4bad-a6f8-59bd725777df"
      },
      "outputs": [
        {
          "data": {
            "text/plain": [
              "<matplotlib.image.AxesImage at 0x1b451b9a150>"
            ]
          },
          "execution_count": 13,
          "metadata": {},
          "output_type": "execute_result"
        },
        {
          "data": {
            "image/png": "[encoded data removed]",
            "text/plain": [
              "<Figure size 640x480 with 1 Axes>"
            ]
          },
          "metadata": {},
          "output_type": "display_data"
        }
      ],
      "source": [
        "### View the new array as an image (this should look all black--that's OK!)\n",
        "\n",
        "# At this point, your resized image should be saved in the 'img_resized' variable\n",
        "plt.imshow(img_resized, cmap='gray', vmin=0, vmax=255)"
      ]
    },
    {
      "cell_type": "markdown",
      "metadata": {
        "id": "G51eLl5z0Cz_"
      },
      "source": [
        "What happened?!? Why is the image all black?\n",
        "\n",
        "The resize function in skimage automatically *normalizes* all of the values in the image to be between 0.0 and 1.0 (they were integers between 0 and 255 previously). Feel free to print out some values from the array to verify this.\n",
        "\n",
        "Let's go back to those 8-bit grayscale values!\n",
        "\n",
        "You can use the Numpy [rint()](https://numpy.org/doc/stable/reference/generated/numpy.rint.html#numpy.rint) and [astype()](https://numpy.org/doc/stable/reference/generated/numpy.ndarray.astype.html) functions to round and convert to integers, respectively. You can use the [clip()](https://numpy.org/doc/stable/reference/generated/numpy.clip.html) function to clamp elements in an array to be between 2 values."
      ]
    },
    {
      "cell_type": "code",
      "execution_count": 18,
      "metadata": {
        "colab": {
          "base_uri": "https://localhost:8080/"
        },
        "id": "ri8iscxfz74e",
        "outputId": "84767c41-0019-4b5b-8f08-745f2b37f521"
      },
      "outputs": [
        {
          "name": "stdout",
          "output_type": "stream",
          "text": [
            "Sample values from the resized array:\n",
            " [[106 104 103 101 101]\n",
            " [105 103 102 101 101]\n",
            " [104 101 101 100  99]\n",
            " [103 101 101  99  99]\n",
            " [101 101 100  99  99]]\n"
          ]
        }
      ],
      "source": [
        "### Convert the normalized 0.0 to 1.0 values in your image to 0 to 255 integers\n",
        "# Save this 8-bit array back into the 'img_resized' variable\n",
        "# Round or truncate all elements to integer values (no floating point decimals)\n",
        "# Make sure all elements are between 0 and 255 (known as \"clamping\")\n",
        "\n",
        "# >>> ENTER YOUR CODE HERE <<<\n",
        "# Convert the normalized values (0.0 to 1.0) back to 0 to 255 range\n",
        "img_resized = np.rint(img_resized * 255).astype(np.uint8)\n",
        "\n",
        "# Ensure all values are between 0 and 255 (clamping)\n",
        "img_resized = np.clip(img_resized, 0, 255)\n",
        "\n",
        "# Print some values to verify the conversion\n",
        "print(\"Sample values from the resized array:\\n\", img_resized[:5, :5])  # Print the top-left 5x5 block\n"
      ]
    },
    {
      "cell_type": "code",
      "execution_count": 19,
      "metadata": {
        "colab": {
          "base_uri": "https://localhost:8080/",
          "height": 447
        },
        "id": "LHg6_QCh08ms",
        "outputId": "38b20b70-8cee-4a0c-f24b-6fe66efe9c97"
      },
      "outputs": [
        {
          "data": {
            "text/plain": [
              "<matplotlib.image.AxesImage at 0x1b47270a150>"
            ]
          },
          "execution_count": 19,
          "metadata": {},
          "output_type": "execute_result"
        },
        {
          "data": {
            "image/png": "[encoded data removed]",
            "text/plain": [
              "<Figure size 640x480 with 1 Axes>"
            ]
          },
          "metadata": {},
          "output_type": "display_data"
        }
      ],
      "source": [
        "### Let's try drawing the image again\n",
        "\n",
        "# At this point, your resized image should be saved in the 'img_resized' variable\n",
        "plt.imshow(img_resized, cmap='gray', vmin=0, vmax=255)"
      ]
    },
    {
      "cell_type": "markdown",
      "metadata": {
        "id": "6Anav0wq3a-z"
      },
      "source": [
        "## Part 4: Draw on the Image\n",
        "\n",
        "Here's your final challenge for this project: draw a white 10x10 square (unfilled, outline thickness of 1 pixel) in the middle of your image.\n",
        "\n",
        "You must do this by manipulating the raw values in the Numpy array. You may not use other libraries to help you (such as by drawing a [Rectangle](https://matplotlib.org/stable/api/_as_gen/matplotlib.patches.Rectangle.html) with matplotlib).\n",
        "\n",
        "I'd like you to try this exercise for two reasons:\n",
        "\n",
        "1.   You get practice slicing arrays in Numpy\n",
        "2.   You won't have matplotlib on some embedded systems, and you'll have to draw things like bounding boxes manually\n",
        "\n",
        "If you have not used Numpy (or other linear algebra systems, like R and MATLAB) before, this can be tricky. I highly recommend avoiding using for loops, as Numpy is highly optimized for array operations without them. You may want to read through this tutorial to get an understanding of this style of array programming: https://realpython.com/numpy-array-programming/"
      ]
    },
    {
      "cell_type": "code",
      "execution_count": 20,
      "metadata": {
        "id": "8uUejjaj3agp"
      },
      "outputs": [],
      "source": [
        "### Change the required elements in the Numpy array so that a 10x10 white square is drawn in the\n",
        "# middle. Try to avoid using for loops if possible.\n",
        "\n",
        "# Start with your resized image\n",
        "img_with_box = np.copy(img_resized)\n",
        "\n",
        "# >>> ENTER YOUR CODE HERE <<<\n",
        "\n",
        "# Calculate the center of the image\n",
        "center_x, center_y = img_with_box.shape[1] // 2, img_with_box.shape[0] // 2\n",
        "\n",
        "# Calculate the top-left and bottom-right corners of the square\n",
        "top_left_x = center_x - 5\n",
        "top_left_y = center_y - 5\n",
        "bottom_right_x = center_x + 5\n",
        "bottom_right_y = center_y + 5\n",
        "\n",
        "# Draw the top and bottom sides of the square\n",
        "img_with_box[top_left_y, top_left_x:bottom_right_x] = 255  # Top side\n",
        "img_with_box[bottom_right_y-1, top_left_x:bottom_right_x] = 255  # Bottom side\n",
        "\n",
        "# Draw the left and right sides of the square\n",
        "img_with_box[top_left_y:bottom_right_y, top_left_x] = 255  # Left side\n",
        "img_with_box[top_left_y:bottom_right_y, bottom_right_x-1] = 255  # Right side\n"
      ]
    },
    {
      "cell_type": "code",
      "execution_count": 17,
      "metadata": {
        "colab": {
          "base_uri": "https://localhost:8080/",
          "height": 447
        },
        "id": "s3tR-S1e6_-b",
        "outputId": "148529e7-56e3-4b62-def2-aafc77d59d88"
      },
      "outputs": [
        {
          "data": {
            "text/plain": [
              "<matplotlib.image.AxesImage at 0x1b4726ecfd0>"
            ]
          },
          "execution_count": 17,
          "metadata": {},
          "output_type": "execute_result"
        },
        {
          "data": {
            "image/png": "[encoded data removed]",
            "text/plain": [
              "<Figure size 640x480 with 1 Axes>"
            ]
          },
          "metadata": {},
          "output_type": "display_data"
        }
      ],
      "source": [
        "### Draw the image--you should see a white squre in the middle!\n",
        "\n",
        "# Your image should be saved in the 'img_with_square\n",
        "plt.imshow(img_with_box, cmap='gray', vmin=0, vmax=255)"
      ]
    }
  ],
  "metadata": {
    "colab": {
      "provenance": []
    },
    "kernelspec": {
      "display_name": "Python 3",
      "name": "python3"
    },
    "language_info": {
      "codemirror_mode": {
        "name": "ipython",
        "version": 3
      },
      "file_extension": ".py",
      "mimetype": "text/x-python",
      "name": "python",
      "nbconvert_exporter": "python",
      "pygments_lexer": "ipython3",
      "version": "3.11.9"
    }
  },
  "nbformat": 4,
  "nbformat_minor": 0
}
